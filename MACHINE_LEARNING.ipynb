{
  "nbformat": 4,
  "nbformat_minor": 0,
  "metadata": {
    "colab": {
      "provenance": []
    },
    "kernelspec": {
      "name": "python3",
      "display_name": "Python 3"
    },
    "language_info": {
      "name": "python"
    }
  },
  "cells": [
    {
      "cell_type": "code",
      "execution_count": null,
      "metadata": {
        "id": "Wkzpw8IMSFSW"
      },
      "outputs": [],
      "source": [
        "# Import required libraries\n",
        "import pandas as pd\n",
        "import numpy as np\n",
        "from sklearn.model_selection import train_test_split\n",
        "from sklearn.tree import DecisionTreeClassifier\n",
        "from sklearn.metrics import accuracy_score, classification_report\n",
        "import matplotlib.pyplot as plt"
      ]
    },
    {
      "cell_type": "code",
      "source": [
        "# Load the Employee Attrition Dataset\n",
        "# Replace 'employee_attrition.csv' with the actual path to your dataset\n",
        "df = pd.read_csv('employee_attrition.csv')\n",
        "\n",
        "# Display the first few rows of the dataset\n",
        "print(\"Dataset Preview:\")\n",
        "print(df.head())\n",
        "\n",
        "# Preprocessing\n",
        "# Convert categorical features to numerical using Label Encoding\n",
        "categorical_columns = ['JobRole', 'Overtime', 'Department', 'Attrition']\n",
        "le = LabelEncoder()\n",
        "for col in categorical_columns:\n",
        "    df[col] = le.fit_transform(df[col])\n",
        "\n",
        "# Define features (X) and target (y)\n",
        "X = df.drop(columns=['Attrition'])\n",
        "y = df['Attrition']\n",
        "\n",
        "# Split the data into training and testing sets\n",
        "X_train, X_test, y_train, y_test = train_test_split(X, y, test_size=0.2, random_state=42)\n",
        "\n",
        "# Train a Decision Tree model with default hyperparameters\n",
        "dt_model = DecisionTreeClassifier(random_state=42)\n",
        "dt_model.fit(X_train, y_train)\n",
        "\n",
        "# Make predictions\n",
        "y_pred = dt_model.predict(X_test)\n",
        "\n",
        "# Evaluate the model\n",
        "print(\"\\nClassification Report:\")\n",
        "print(classification_report(y_test, y_pred))\n",
        "print(\"Accuracy:\", accuracy_score(y_test, y_pred))\n",
        "\n",
        "# Hyperparameter tuning\n",
        "# Example: Adjusting `max_depth` and `min_samples_split`\n",
        "tuned_model = DecisionTreeClassifier(max_depth=5, min_samples_split=10, criterion='entropy', random_state=42)\n",
        "tuned_model.fit(X_train, y_train)\n",
        "\n",
        "# Make predictions with the tuned model\n",
        "y_tuned_pred = tuned_model.predict(X_test)\n",
        "\n",
        "# Evaluate the tuned model\n",
        "print(\"\\nTuned Model Classification Report:\")\n",
        "print(classification_report(y_test, y_tuned_pred))\n",
        "print(\"Tuned Model Accuracy:\", accuracy_score(y_test, y_tuned_pred))"
      ],
      "metadata": {
        "id": "j258ACBOT2EW"
      },
      "execution_count": null,
      "outputs": []
    },
    {
      "cell_type": "code",
      "source": [
        "criteria = ['gini', 'entropy']\n",
        "results_criterion = []\n",
        "\n",
        "for crit in criteria:\n",
        "    print(f\"Testing criterion: {crit}\")\n",
        "    tree = DecisionTreeClassifier(criterion=crit, random_state=42)\n",
        "    acc = evaluate_model(tree)\n",
        "    results_criterion.append((crit, acc))\n",
        "\n",
        "# Plot criterion results\n",
        "plt.bar([x[0] for x in results_criterion], [x[1] for x in results_criterion], color=['red', 'green'])\n",
        "plt.title(\"Criterion Comparison\")\n",
        "plt.ylabel(\"Accuracy\")\n",
        "plt.show()"
      ],
      "metadata": {
        "id": "9naUSHhmaICf"
      },
      "execution_count": null,
      "outputs": []
    },
    {
      "cell_type": "code",
      "source": [
        " Analyze 'max_depth' hyperparameter\n",
        "depths = [3, 5, 10, None]\n",
        "results_depth = []\n",
        "\n",
        "for depth in depths:\n",
        "    print(f\"Testing max_depth: {depth}\")\n",
        "    tree = DecisionTreeClassifier(max_depth=depth, random_state=42)\n",
        "    acc = evaluate_model(tree)\n",
        "    results_depth.append((depth, acc))\n",
        "\n",
        "# Plot max_depth results\n",
        "depth_labels = [str(d) if d is not None else \"None\" for d in depths]\n",
        "plt.plot(depth_labels, [x[1] for x in results_depth], marker='o')\n",
        "plt.title(\"Max Depth Comparison\")\n",
        "plt.xlabel(\"Max Depth\")\n",
        "plt.ylabel(\"Accuracy\")\n",
        "plt.show()"
      ],
      "metadata": {
        "id": "i4-u2L_EaV8G"
      },
      "execution_count": null,
      "outputs": []
    }
  ]
}